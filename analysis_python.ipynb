# Python Example: Clinical Dataset Analysis
import pandas as pd
import matplotlib.pyplot as plt
import seaborn as sns

# Load dataset (replace with actual file path)
df = pd.read_csv("diabetes.csv")

# Quick overview
print(df.head())
print(df.describe())

# Correlation heatmap
plt.figure(figsize=(10,6))
sns.heatmap(df.corr(), annot=True, cmap="coolwarm")
plt.title("Correlation Heatmap of Clinical Dataset")
plt.show()

# Logistic Regression (simple example)
from sklearn.model_selection import train_test_split
from sklearn.linear_model import LogisticRegression
from sklearn.metrics import accuracy_score

X = df.drop("Outcome", axis=1)
y = df["Outcome"]

X_train, X_test, y_train, y_test = train_test_split(X, y, test_size=0.2, random_state=42)
model = LogisticRegression(max_iter=200)
model.fit(X_train, y_train)
preds = model.predict(X_test)

print("Accuracy:", accuracy_score(y_test, preds))
